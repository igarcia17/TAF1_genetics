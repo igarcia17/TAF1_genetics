{
 "cells": [
  {
   "attachments": {},
   "cell_type": "markdown",
   "metadata": {},
   "source": [
    "# Gene set analysis using MAGMA and PoPS analysis"
   ]
  },
  {
   "attachments": {},
   "cell_type": "markdown",
   "metadata": {},
   "source": [
    "Magma scores where computed and processed at CCC, using bash. Starting point: NodoBIO/pryectos/genpsych/Resultados_Ines"
   ]
  },
  {
   "attachments": {},
   "cell_type": "markdown",
   "metadata": {},
   "source": [
    "### Workflow:\n",
    "- MAGMA scores: Gene annotation of all SNPs present in BD GWAS summary statistics and gene-based analysis\n",
    "- MAGMA analysis: Gene set analysis using GO, HPO and hallmark categories and gene property analysis using WGCNA modules\n",
    "- PoPS: Polygenic Priority Score based on MAGMA gene based output and a feature matrix."
   ]
  },
  {
   "attachments": {},
   "cell_type": "markdown",
   "metadata": {},
   "source": [
    "## Generate MAGMA scores\n",
    "This step was run at CCC server, file paths not corresponding to repository."
   ]
  },
  {
   "cell_type": "code",
   "execution_count": null,
   "metadata": {},
   "outputs": [],
   "source": [
    "## Files preparation\n",
    "#Filter of GWAS BD summary statistics to include only the official markers ('rs'), those with classic ACTG alleles and imputation info > 0.6\n",
    "!awk '$5 ~ /^[ACGT]$/ && $6 ~ /^[ACGT]$/ && $3 ~ /^rs/ && $8 > 0.6 {print $0}' PGC/bd_main > PGC/bd_main_filtered\n",
    "#Loc file of target SNPs (all present in GWAS BD)\n",
    "!awk '{print $2 \"\\t\" $1 \"\\t\" $3}' PGC/bd_main_filtered > target_snps.loc\n",
    "#Prepare annotation file with ENSID column, derived from gene annotation file of PoPS (Weeks et al. (2020))\n",
    "#To add missing DGE and chr X genes, the genes to add were placed in a table with BioMart (Ensembl hg19) and pasted inside the gene_annot_jun10.txt file\n",
    "!awk '{print $1 \"\\t\" $3 \"\\t\" $4 \"\\t\" $5 }' gene_annot_jun10_added.txt > magma_ensid.txt\n",
    "!sed '1d' magma_ensid.txt> magma_ensid.gene.loc #it was necessary to add genes on chrX\n",
    "\n",
    "## Gene annotation\n",
    "!module load plink/1.07\n",
    "!module load magma/1.09\n",
    "\n",
    "!magma --annotate window=5 --snp-loc pops-master/myfiles/target_snps.loc --gene-loc pops-master/myfiles/magma_ensid.gene.loc --out pops-master/myfiles/bd_genes\n",
    "\n",
    "## Gene based analysis\n",
    "!magma --bfile MAGMA/g1000_eur --gene-annot pops-master/myfiles/bd_genes.genes.annot --pval PGC/bd_main_filtered use='SNP','P' N=413466 --gene-model multi=snp-wise --out pops-master/myfiles/bd-scores\n"
   ]
  },
  {
   "attachments": {},
   "cell_type": "markdown",
   "metadata": {},
   "source": [
    "## MAGMA analysis\n",
    "### Gene set analysis for enriched categories\n",
    "\n",
    "The objective of this step is to validate the enriched categories that come from both GSEA results and ORA results (from WGCNA significant modules)"
   ]
  },
  {
   "cell_type": "code",
   "execution_count": null,
   "metadata": {},
   "outputs": [],
   "source": [
    "!module load plink/1.07\n",
    "!module load magma/1.09\n",
    "\n",
    "!magma --gene-results pops-master/myfiles/bd-scores.genes.raw --set-annot MAGMA/validate_sets col=2,1 --out MAGMA/validate_sets_results"
   ]
  },
  {
   "attachments": {},
   "cell_type": "markdown",
   "metadata": {},
   "source": [
    "### Gene property analysis for WGCNA modules\n",
    "\n",
    "The purpose of this step is to know if the gene coexpression modules are somehow related to the GWAS summary statistics, thus, if the significantly correlated modules have a significant p value among the genome wide associaiton signals."
   ]
  },
  {
   "cell_type": "code",
   "execution_count": null,
   "metadata": {},
   "outputs": [],
   "source": [
    "!magma --gene-results pops-master/myfiles/bd-scores.genes.raw --gene-covar pops-master/myfiles/wgcna_features/raw/MM.tsv --out MAGMA/validate_modules"
   ]
  }
 ],
 "metadata": {
  "kernelspec": {
   "display_name": "Python 3",
   "language": "python",
   "name": "python3"
  },
  "language_info": {
   "codemirror_mode": {
    "name": "ipython",
    "version": 3
   },
   "file_extension": ".py",
   "mimetype": "text/x-python",
   "name": "python",
   "nbconvert_exporter": "python",
   "pygments_lexer": "ipython3",
   "version": "3.9.7"
  },
  "orig_nbformat": 4
 },
 "nbformat": 4,
 "nbformat_minor": 2
}
