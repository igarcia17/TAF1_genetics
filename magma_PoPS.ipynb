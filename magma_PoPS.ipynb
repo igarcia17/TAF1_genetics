{
 "cells": [
  {
   "attachments": {},
   "cell_type": "markdown",
   "metadata": {},
   "source": [
    "# Gene set analysis using MAGMA and PoPS analysis"
   ]
  },
  {
   "attachments": {},
   "cell_type": "markdown",
   "metadata": {},
   "source": [
    "Magma scores where computed and processed at CCC, using bash. Starting point: NodoBIO/pryectos/genpsych/Resultados_Ines"
   ]
  },
  {
   "attachments": {},
   "cell_type": "markdown",
   "metadata": {},
   "source": [
    "### Workflow:\n",
    "- MAGMA scores: Gene annotation of all SNPs present in BD GWAS summary statistics and gene-based analysis\n",
    "- MAGMA analysis: Gene set analysis using GO, HPO and hallmark categories and gene property analysis using WGCNA modules\n",
    "- PoPS: Polygenic Priority Score based on MAGMA gene based output and a feature matrix."
   ]
  },
  {
   "attachments": {},
   "cell_type": "markdown",
   "metadata": {},
   "source": [
    "## Generate MAGMA scores\n",
    "This step was run at CCC server, file paths not corresponding to repository."
   ]
  },
  {
   "cell_type": "code",
   "execution_count": null,
   "metadata": {},
   "outputs": [],
   "source": [
    "## Files preparation\n",
    "#Filter of GWAS BD summary statistics to include only the official markers ('rs'), those with classic ACTG alleles and imputation info > 0.6\n",
    "!awk '$5 ~ /^[ACGT]$/ && $6 ~ /^[ACGT]$/ && $3 ~ /^rs/ && $8 > 0.6 {print $0}' PGC/bd_main > PGC/bd_main_filtered\n",
    "#Loc file of target SNPs (all present in GWAS BD)\n",
    "!awk '{print $2 \"\\t\" $1 \"\\t\" $3}' PGC/bd_main_filtered > target_snps.loc\n",
    "#Prepare annotation file with ENSID column, derived from gene annotation file of PoPS (Weeks et al. (2020))\n",
    "#To add missing DGE and chr X genes, the genes to add were placed in a table with BioMart (Ensembl hg19) and pasted inside the gene_annot_jun10.txt file\n",
    "!awk '{print $1 \"\\t\" $3 \"\\t\" $4 \"\\t\" $5 }' gene_annot_jun10_added.txt > magma_ensid.txt\n",
    "!sed '1d' magma_ensid.txt> magma_ensid.gene.loc #it was necessary to add genes on chrX\n",
    "\n",
    "## Gene annotation\n",
    "!module load plink/1.07\n",
    "!module load magma/1.09\n",
    "\n",
    "!magma --annotate window=5 --snp-loc pops-master/myfiles/target_snps.loc --gene-loc pops-master/myfiles/magma_ensid.gene.loc --out pops-master/myfiles/bd_genes\n",
    "\n",
    "## Gene based analysis\n",
    "!magma --bfile MAGMA/g1000_eur --gene-annot pops-master/myfiles/bd_genes.genes.annot --pval PGC/bd_main_filtered use='SNP','P' N=413466 --gene-model multi=snp-wise --out pops-master/myfiles/bd-scores\n"
   ]
  },
  {
   "attachments": {},
   "cell_type": "markdown",
   "metadata": {},
   "source": [
    "## MAGMA analysis\n",
    "### Gene set analysis for enriched categories\n",
    "\n",
    "The objective of this step is to validate the enriched categories that come from both GSEA results and ORA results (from WGCNA significant modules)"
   ]
  },
  {
   "cell_type": "code",
   "execution_count": null,
   "metadata": {},
   "outputs": [],
   "source": [
    "!module load plink/1.07\n",
    "!module load magma/1.09\n",
    "\n",
    "!magma --gene-results pops-master/myfiles/bd-scores.genes.raw --set-annot MAGMA/validate_sets col=2,1 --out MAGMA/validate_sets_results"
   ]
  },
  {
   "attachments": {},
   "cell_type": "markdown",
   "metadata": {},
   "source": [
    "### Gene property analysis for WGCNA modules\n",
    "\n",
    "The purpose of this step is to know if the gene coexpression modules are somehow related to the GWAS summary statistics, thus, if the significantly correlated modules have a significant p value among the genome wide associaiton signals."
   ]
  },
  {
   "cell_type": "code",
   "execution_count": null,
   "metadata": {},
   "outputs": [],
   "source": [
    "!magma --gene-results pops-master/myfiles/bd-scores.genes.raw --gene-covar pops-master/myfiles/wgcna_features/raw/MM.tsv --out MAGMA/validate_modules"
   ]
  },
  {
   "attachments": {},
   "cell_type": "markdown",
   "metadata": {},
   "source": [
    "## PoPS\n",
    "\n",
    "We are going to delete the last two p value columns from the .genes.out file, as only the p value of the desired model has to be taken into account.\n",
    "\n",
    "### Munge features\n",
    "\n",
    "Processes run in local from RNASeq_BipolarDisorder repository. The pathway features and the WGCNA will be analysed together."
   ]
  },
  {
   "cell_type": "code",
   "execution_count": 2,
   "metadata": {},
   "outputs": [],
   "source": [
    "python ./results_MAGMA_PoPS/munge_feature_directory.py --gene_annot_path ./results_MAGMA_PoPS/magma/custom_annot_allhg38_forPoPS.txt --feature_dir Y:/featuresPoPS/raw/ --save_prefix Y:/featuresPoPS/munged/all_hg38 --max_cols 5000 --nan_policy \"zero\""
   ]
  },
  {
   "attachments": {},
   "cell_type": "markdown",
   "metadata": {},
   "source": [
    "### Run PoPS"
   ]
  },
  {
   "cell_type": "code",
   "execution_count": null,
   "metadata": {},
   "outputs": [],
   "source": [
    "!python ./results_MAGMA_PoPS/pops.py --gene_annot_path ./results_MAGMA_PoPS/magma/custom_annot_allhg38_forPoPS.txt --feature_mat_prefix D:/features/munged/all_features_added_genes --num_feature_chunks 12 --magma_prefix ./results_MAGMA_PoPS/magma/gene_based/scz_noTFM/scz_genebased --out_prefix ./results_MAGMA_PoPS/pops_output/scz-pops-complete_noTFM"
   ]
  },
  {
   "attachments": {},
   "cell_type": "markdown",
   "metadata": {},
   "source": [
    "### Process results"
   ]
  },
  {
   "attachments": {},
   "cell_type": "markdown",
   "metadata": {},
   "source": [
    "We want to check the role of the DEGs and genes on significant coexpression modules according to magma and PoPS. To do so, a common object is made from which the target genes will be filtered in."
   ]
  },
  {
   "cell_type": "code",
   "execution_count": 4,
   "metadata": {},
   "outputs": [],
   "source": [
    "import pandas as pd\n",
    "import numpy as np\n",
    "\n",
    "description_genes_file = './results_MAGMA_PoPS/magma/gene_annot_jun10_added.txt'\n",
    "added_genes_list = './results_MAGMA_PoPS/magma/added_genes.txt'\n",
    "results_gene_file = './results_MAGMA_PoPS/pops_output/bd-pops-complete.preds'\n",
    "magma_p_value_file = './results_MAGMA_PoPS/magma/gene_based/bd-scores.genes.out'\n",
    "save_gene_file = './results_MAGMA_PoPS/pops_output/description_bd-pops-complete.preds'\n",
    "\n",
    "genes_desc = pd.read_csv(description_genes_file, sep = '\\t').iloc[:,0:2]\n",
    "f_pred = pd.read_csv(results_gene_file, sep='\\t', header=0)\n",
    "magma_p_values = pd.read_csv(magma_p_value_file, sep ='\\s+', header = 0).iloc[:,[0,8]].rename(columns = {'GENE': 'ENSGID'}).rename(columns ={'P_MULTI': 'magma_p_value'})\n",
    "\n",
    "genes_pred =pd.merge(f_pred, genes_desc, on = ['ENSGID'], how = 'left')\n",
    "genes_pred = pd.merge(genes_pred, magma_p_values, on =['ENSGID'], how='left')\n",
    "\n",
    "cols = ['ENSGID','NAME','magma_p_value','PoPS_Score','feature_selection_gene']\n",
    "genes_pred = genes_pred[cols]\n",
    "\n",
    "added_genes = list(pd.read_csv(added_genes_list, sep = '\\t').iloc[:,0])\n",
    "genes_pred.loc[genes_pred['ENSGID'].isin(added_genes), 'PoPS_Score'] = 'NaN'\n",
    "genes_pred.loc[genes_pred['ENSGID'].isin(added_genes), 'feature_selection_gene'] = 'NaN'\n",
    "\n",
    "#genes_pred.to_csv(save_gene_file, header = True, index = None, sep = '\\t', mode = 'w')"
   ]
  },
  {
   "cell_type": "code",
   "execution_count": 5,
   "metadata": {},
   "outputs": [],
   "source": [
    "DGE_file = './results_DGE/0.05_sig_padj.tsv'\n",
    "DGE_table_scores_file = './results_MAGMA_PoPS/pops_output/DGE_scores_table.txt'\n",
    "WGCNA_file = './results_WGCNA/genes_in_modules/genes_in_modules_ENSGID.txt'\n",
    "WGCNA_table_scores_file = './results_MAGMA_PoPS/pops_output/WGCNA_scores_table.txt'\n",
    "\n",
    "target_DGE = pd.read_csv(DGE_file, sep = '\\t', header = 0).iloc[:,[0,1,8]]\n",
    "target_DGE.columns = ['ENSGID', 'symbol','p_adj_DGE']\n",
    "\n",
    "target_DGE = pd.merge(target_DGE, genes_pred, on = ['ENSGID'], how = 'left')\n",
    "target_DGE.to_csv(DGE_table_scores_file, header = True, index = None, sep = '\\t', mode = 'w')\n",
    "\n",
    "target_WGCNA = pd.read_csv(WGCNA_file, sep = '\\t', header = 0)\n",
    "target_WGCNA = pd.merge(target_WGCNA, genes_pred, on = ['ENSGID'], how = 'left')\n",
    "#target_WGCNA.to_csv(WGCNA_table_scores_file, header = True, index = None, sep = '\\t', mode = 'w')"
   ]
  },
  {
   "cell_type": "code",
   "execution_count": null,
   "metadata": {},
   "outputs": [],
   "source": [
    "\n",
    "#NOT USED for TFM: Feature description file derived from TODO: meter link del 2020.09.08.20190561-3.gz\n",
    "\n",
    "\n",
    "#Load feature description file\n",
    "import pandas as pd\n",
    "import numpy as np\n",
    "description_feature_file = './pops-input/feature_description.txt'\n",
    "results_file = './pops-out/bd-pops.coefs'\n",
    "save_file = './pops-out/bd-pops-desc.coefs'\n",
    "\n",
    "f_description = pd.read_csv(description_feature_file, sep='\\t', lineterminator='\\n', header=0)\n",
    "#print(f_description.iloc[0:9])\n",
    "#Load coefficients file\n",
    "f_coefs = pd.read_csv(results_file, sep='\\t', header=0)\n",
    "coefs= f_coefs.drop(index = [0,1,2])\n",
    "coefs = coefs.rename(columns = {'parameter': 'featureID'})\n",
    "#print(coefs.iloc[0:9])\n",
    "#Merge and sort\n",
    "coefs_desc = pd.merge(coefs, f_description, on = ['featureID'], how = 'left')\n",
    "coefs_desc = coefs_desc.sort_values(by = ['beta'], ascending=False)\n",
    "coefs_desc.to_csv(save_file, header=True, index=None, sep='\\t', mode='w')\n",
    "print(coefs_desc.iloc[0:9])"
   ]
  }
 ],
 "metadata": {
  "kernelspec": {
   "display_name": "Python 3",
   "language": "python",
   "name": "python3"
  },
  "language_info": {
   "codemirror_mode": {
    "name": "ipython",
    "version": 3
   },
   "file_extension": ".py",
   "mimetype": "text/x-python",
   "name": "python",
   "nbconvert_exporter": "python",
   "pygments_lexer": "ipython3",
   "version": "3.9.7"
  },
  "orig_nbformat": 4
 },
 "nbformat": 4,
 "nbformat_minor": 2
}
